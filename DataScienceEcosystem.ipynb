{
 "cells": [
  {
   "cell_type": "markdown",
   "id": "46b1dc06-1b6c-4738-8d9e-6f9a555555d0",
   "metadata": {},
   "source": [
    "# Data Science Tools and Ecosystem"
   ]
  },
  {
   "cell_type": "markdown",
   "id": "aaef47e6-6603-4ac7-8913-2d0633c9f42b",
   "metadata": {},
   "source": [
    "##### In this notebook, Data Science Tools and Ecosystem are summarized."
   ]
  },
  {
   "cell_type": "markdown",
   "id": "6b2d23d2-c9a8-47a4-98b2-945abbf1e298",
   "metadata": {},
   "source": [
    "##### **Objectives:**\n",
    "- List popular languages for Data Science\n",
    "- List commonly used librabries by Data Scientists\n",
    "- Evaluate arthmetic expressions in Python"
   ]
  },
  {
   "cell_type": "markdown",
   "id": "fe564ec1-a928-4536-b0b9-4180f9a1c33f",
   "metadata": {},
   "source": [
    "##### Some of the popular languages that Data Scientists use are:\n",
    "1. R\n",
    "2. SQL\n",
    "3. Python"
   ]
  },
  {
   "cell_type": "markdown",
   "id": "0d331b42-b744-453e-8997-59c106ed9b84",
   "metadata": {},
   "source": [
    "##### Some of the commonly used libraries used by Data Scientists include:\n",
    "1. Pandas\n",
    "2. NumPy\n",
    "3. Matplotlib"
   ]
  },
  {
   "cell_type": "markdown",
   "id": "5444d2e6-62eb-4999-a2ae-97e9e2d93e9b",
   "metadata": {},
   "source": [
    "| Data Science Tools   |\n",
    "|----------------------|\n",
    "| Jupyter Notebooks    |\n",
    "| RStudio              |\n",
    "| Apache Zeppelin      |"
   ]
  },
  {
   "cell_type": "markdown",
   "id": "35f096e6-5bdf-41f7-92d5-dcc3c209c198",
   "metadata": {},
   "source": [
    "### Below are a few examples of evaluating arithmetic expressions in Python"
   ]
  },
  {
   "cell_type": "code",
   "execution_count": 4,
   "id": "20bad127-a12f-4387-a3dd-b7f768dea751",
   "metadata": {},
   "outputs": [
    {
     "data": {
      "text/plain": [
       "17"
      ]
     },
     "execution_count": 4,
     "metadata": {},
     "output_type": "execute_result"
    }
   ],
   "source": [
    "# This is a simple arithmetic expression to multiply then add integers:\n",
    "(3*4)+5"
   ]
  },
  {
   "cell_type": "code",
   "execution_count": 7,
   "id": "a8c5d0eb-3a2f-41c5-80b3-c4a9b51b487b",
   "metadata": {},
   "outputs": [],
   "source": [
    "#This will convert 200 minutes to hours by diving by 60:\n",
    "y=(x/60)\n",
    "x=200\n",
    "y"
   ]
  },
  {
   "cell_type": "markdown",
   "id": "6dd7844d-d18d-47e6-a292-7983a8e1909c",
   "metadata": {},
   "source": [
    "## Author\n",
    "##### Anjali Sammeta"
   ]
  }
 ],
 "metadata": {
  "kernelspec": {
   "display_name": "Python 3 (ipykernel)",
   "language": "python",
   "name": "python3"
  },
  "language_info": {
   "codemirror_mode": {
    "name": "ipython",
    "version": 3
   },
   "file_extension": ".py",
   "mimetype": "text/x-python",
   "name": "python",
   "nbconvert_exporter": "python",
   "pygments_lexer": "ipython3",
   "version": "3.11.9"
  }
 },
 "nbformat": 4,
 "nbformat_minor": 5
}
